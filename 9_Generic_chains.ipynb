{
 "cells": [
  {
   "cell_type": "markdown",
   "id": "336b9395",
   "metadata": {},
   "source": [
    "# Generic Chains Overview"
   ]
  },
  {
   "cell_type": "markdown",
   "id": "1dcb42ef",
   "metadata": {},
   "source": [
    "## Simple Chain"
   ]
  },
  {
   "cell_type": "markdown",
   "id": "0b094e82",
   "metadata": {},
   "source": [
    "<font color='green'>\n",
    "The most elementary type of chain is known as a basic chain, which represents the simplest form of crafting a chain. <br>In this setup, there is only one Language Model (LLM) responsible for receiving an input prompt and using it for generating text.\n",
    "<font>"
   ]
  },
  {
   "cell_type": "code",
   "execution_count": 1,
   "id": "43b5cfff",
   "metadata": {},
   "outputs": [],
   "source": [
    "#Please install the package as per your requirement :)\n",
    "#!pip install openai==1.14.2\n",
    "#!pip install langchain==0.1.13\n",
    "#!pip install huggingface-hub==0.21.4\n",
    "#!pip install langchain-openai==0.1.0"
   ]
  },
  {
   "cell_type": "code",
   "execution_count": 2,
   "id": "6b36c04f",
   "metadata": {},
   "outputs": [],
   "source": [
    "import os\n",
    "os.environ[\"OPENAI_API_KEY\"] = \n",
    "os.environ[\"HUGGINGFACEHUB_API_TOKEN\"] = "
   ]
  },
  {
   "cell_type": "code",
   "execution_count": 3,
   "id": "a8d7c528",
   "metadata": {},
   "outputs": [],
   "source": [
    "#The below import has been replaced by the later one\n",
    "#from langchain.llms import OpenAI\n",
    "from langchain_openai import OpenAI\n",
    "from langchain.prompts import PromptTemplate\n",
    "from langchain.chains import LLMChain"
   ]
  },
  {
   "cell_type": "code",
   "execution_count": 4,
   "id": "5547ab07",
   "metadata": {},
   "outputs": [],
   "source": [
    "llm = OpenAI()"
   ]
  },
  {
   "cell_type": "code",
   "execution_count": 5,
   "id": "436017aa",
   "metadata": {},
   "outputs": [],
   "source": [
    "prompt = PromptTemplate(\n",
    "    input_variables=[\"place\"],\n",
    "    template=\"Best places to visit in {place}?\",\n",
    ")"
   ]
  },
  {
   "cell_type": "code",
   "execution_count": 6,
   "id": "2477a555",
   "metadata": {},
   "outputs": [
    {
     "name": "stdout",
     "output_type": "stream",
     "text": [
      "{'place': 'India', 'text': '\\n\\n1. The Taj Mahal in Agra, Uttar Pradesh\\n2. The Golden Temple in Amritsar, Punjab\\n3. The backwaters of Kerala\\n4. The beaches of Goa\\n5. The Pink City of Jaipur, Rajasthan\\n6. The Himalayan region of Ladakh, Jammu and Kashmir\\n7. The ancient city of Varanasi, Uttar Pradesh\\n8. The wildlife sanctuaries of Jim Corbett and Ranthambore\\n9. The city of Mumbai, Maharashtra\\n10. The hill stations of Shimla and Manali, Himachal Pradesh'}\n"
     ]
    }
   ],
   "source": [
    "chain = LLMChain(llm=llm, prompt=prompt)\n",
    "\n",
    "# Run the chain only specifying the input variable.\n",
    "# Recently langchain has replaced 'run' function with 'invoke'\n",
    "print(chain.invoke(\"India\"))"
   ]
  },
  {
   "cell_type": "markdown",
   "id": "c88205e2",
   "metadata": {},
   "source": [
    "## Simple Sequential Chains"
   ]
  },
  {
   "cell_type": "markdown",
   "id": "b8787d85",
   "metadata": {},
   "source": []
  },
  {
   "cell_type": "markdown",
   "id": "4eb1850c",
   "metadata": {},
   "source": [
    "<font color='green'>\n",
    "Sequential Chains involves making a series of consecutive calls to the language model.<br> This approach proves especially valuable when there is a need to utilize the output generated from one call as the input for another call.\n",
    "<font>"
   ]
  },
  {
   "cell_type": "code",
   "execution_count": 7,
   "id": "76654563",
   "metadata": {},
   "outputs": [],
   "source": [
    "from langchain.chains import SimpleSequentialChain\n",
    "\n",
    "#from langchain.llms import HuggingFaceHub\n",
    "#The above have been updated recently, so going forward we have to use the below :)\n",
    "\n",
    "from langchain.llms import HuggingFaceEndpoint"
   ]
  },
  {
   "cell_type": "code",
   "execution_count": 8,
   "id": "92f94dc5",
   "metadata": {},
   "outputs": [],
   "source": [
    "template = \"\"\"You have to suggest 5 best places to visit in {place}?\n",
    "\n",
    "YOUR RESPONSE:\n",
    "\"\"\"\n",
    "prompt_template = PromptTemplate(\n",
    "    input_variables=[\"place\"], \n",
    "    template=template)"
   ]
  },
  {
   "cell_type": "code",
   "execution_count": 9,
   "id": "77104326",
   "metadata": {},
   "outputs": [
    {
     "name": "stdout",
     "output_type": "stream",
     "text": [
      "Token has not been saved to git credential helper. Pass `add_to_git_credential=True` if you want to set the git credential as well."
     ]
    },
    {
     "name": "stderr",
     "output_type": "stream",
     "text": [
      "c:\\Users\\User\\AppData\\Local\\Programs\\Python\\Python310\\lib\\site-packages\\tqdm\\auto.py:21: TqdmWarning: IProgress not found. Please update jupyter and ipywidgets. See https://ipywidgets.readthedocs.io/en/stable/user_install.html\n",
      "  from .autonotebook import tqdm as notebook_tqdm\n"
     ]
    },
    {
     "name": "stdout",
     "output_type": "stream",
     "text": [
      "\n",
      "Token is valid (permission: read).\n",
      "Your token has been saved to C:\\Users\\User\\.cache\\huggingface\\token\n",
      "Login successful\n"
     ]
    }
   ],
   "source": [
    "#HF_llm= HuggingFaceHub(repo_id = \"google/flan-t5-large\")\n",
    "#The above 'HuggingFaceHub' class has been depreciated, so please use the below class'HuggingFaceEndpoint' \n",
    "#and the below mentioned model outperforms most of the available open source LLMs\n",
    "\n",
    "HF_llm = HuggingFaceEndpoint(repo_id=\"mistralai/Mistral-7B-Instruct-v0.2\") # Model link : https://huggingface.co/mistralai/Mistral-7B-Instruct-v0.2\n"
   ]
  },
  {
   "cell_type": "code",
   "execution_count": 10,
   "id": "2578b568",
   "metadata": {},
   "outputs": [],
   "source": [
    "#llm = OpenAI()"
   ]
  },
  {
   "cell_type": "code",
   "execution_count": 11,
   "id": "aa350baf",
   "metadata": {},
   "outputs": [],
   "source": [
    "place_chain = LLMChain(llm=llm, prompt=prompt_template)"
   ]
  },
  {
   "cell_type": "code",
   "execution_count": 12,
   "id": "d4ea5942",
   "metadata": {},
   "outputs": [],
   "source": [
    "template = \"\"\"Given a list a places, please estimate the expenses to visit all of them in local currency and also the days needed\n",
    "{expenses}\n",
    "\n",
    "YOUR RESPONSE:\n",
    "\"\"\"\n",
    "prompt_template = PromptTemplate(\n",
    "    input_variables=[\"expenses\"],\n",
    "    template=template)"
   ]
  },
  {
   "cell_type": "code",
   "execution_count": 13,
   "id": "61ca518d",
   "metadata": {},
   "outputs": [],
   "source": [
    "llm = OpenAI()"
   ]
  },
  {
   "cell_type": "code",
   "execution_count": 14,
   "id": "ef315099",
   "metadata": {},
   "outputs": [],
   "source": [
    "expenses_chain = LLMChain(llm=llm, prompt=prompt_template)"
   ]
  },
  {
   "cell_type": "code",
   "execution_count": 15,
   "id": "16e97f98",
   "metadata": {},
   "outputs": [],
   "source": [
    "final_chain = SimpleSequentialChain(chains=[place_chain, expenses_chain], verbose=True)"
   ]
  },
  {
   "cell_type": "code",
   "execution_count": 16,
   "id": "98487cc4",
   "metadata": {},
   "outputs": [
    {
     "name": "stdout",
     "output_type": "stream",
     "text": [
      "\n",
      "\n",
      "\u001b[1m> Entering new SimpleSequentialChain chain...\u001b[0m\n",
      "\u001b[36;1m\u001b[1;3m1. The Taj Mahal: Located in Agra, Uttar Pradesh, the Taj Mahal is a must-visit destination for anyone traveling to India. This iconic white marble mausoleum was built by the Mughal Emperor Shah Jahan in memory of his beloved wife and is known for its stunning architecture and romantic history.\n",
      "\n",
      "2. Kerala: Known as \"God's Own Country,\" Kerala is a beautiful state in southern India that offers a unique blend of lush green landscapes, serene backwaters, and pristine beaches. It is also famous for its Ayurvedic treatments, delicious cuisine, and vibrant culture.\n",
      "\n",
      "3. The Golden Triangle: The Golden Triangle is a popular tourist circuit in India that covers three major cities - Delhi, Agra, and Jaipur. Each city is rich in history, culture, and architecture, making it a must-visit for those interested in India's heritage.\n",
      "\n",
      "4. Goa: Located on the western coast of India, Goa is a popular beach destination known for its laid-back vibe, stunning beaches, and vibrant nightlife. It is also home to a unique blend of Indian and Portuguese cultures, reflected in its architecture, cuisine, and festivals.\n",
      "\n",
      "5. Ladakh: For nature lovers and adventure seekers, Ladakh is a must-visit destination\u001b[0m\n",
      "\u001b[33;1m\u001b[1;3m1. The Taj Mahal:\n",
      "Expenses: Approximately 1000 Indian Rupees (INR) for entrance fee and additional expenses for transportation, food, and accommodation.\n",
      "Days needed: 1-2 days.\n",
      "\n",
      "2. Kerala:\n",
      "Expenses: Approximately 20,000 INR for a 7-day trip, including transportation, food, accommodation, and Ayurvedic treatments.\n",
      "Days needed: 5-7 days.\n",
      "\n",
      "3. The Golden Triangle:\n",
      "Expenses: Approximately 15,000 INR for a 5-day trip, including transportation, food, accommodation, and entrance fees to major attractions.\n",
      "Days needed: 4-5 days.\n",
      "\n",
      "4. Goa:\n",
      "Expenses: Approximately 10,000 INR for a 3-day trip, including transportation, food, accommodation, and nightlife expenses.\n",
      "Days needed: 2-3 days.\n",
      "\n",
      "5. Ladakh:\n",
      "Expenses: Approximately 30,000 INR for a 7-day trip, including transportation, food, accommodation, and adventure activities.\n",
      "Days needed: 6-7 days.\u001b[0m\n",
      "\n",
      "\u001b[1m> Finished chain.\u001b[0m\n"
     ]
    }
   ],
   "source": [
    "review = final_chain.invoke(\"India\")"
   ]
  },
  {
   "cell_type": "code",
   "execution_count": null,
   "id": "a2c09bca",
   "metadata": {},
   "outputs": [],
   "source": []
  }
 ],
 "metadata": {
  "kernelspec": {
   "display_name": "Python 3 (ipykernel)",
   "language": "python",
   "name": "python3"
  },
  "language_info": {
   "codemirror_mode": {
    "name": "ipython",
    "version": 3
   },
   "file_extension": ".py",
   "mimetype": "text/x-python",
   "name": "python",
   "nbconvert_exporter": "python",
   "pygments_lexer": "ipython3",
   "version": "3.10.8"
  }
 },
 "nbformat": 4,
 "nbformat_minor": 5
}
